{
  "nbformat": 4,
  "nbformat_minor": 0,
  "metadata": {
    "colab": {
      "name": "March Madness Function",
      "provenance": [],
      "authorship_tag": "ABX9TyOTgLFyW9yqoxagBbvEl11S",
      "include_colab_link": true
    },
    "kernelspec": {
      "name": "python3",
      "display_name": "Python 3"
    }
  },
  "cells": [
    {
      "cell_type": "markdown",
      "metadata": {
        "id": "view-in-github",
        "colab_type": "text"
      },
      "source": [
        "<a href=\"https://colab.research.google.com/github/AfredTX/MarchMadnessBracketAssistant/blob/master/March_Madness_Function.ipynb\" target=\"_parent\"><img src=\"https://colab.research.google.com/assets/colab-badge.svg\" alt=\"Open In Colab\"/></a>"
      ]
    },
    {
      "cell_type": "markdown",
      "metadata": {
        "id": "GO6-oBTxR-wT",
        "colab_type": "text"
      },
      "source": [
        "**In this notebook I will walk you through the process in which I scraped statistics from Fox Sports, team rankings and logos from CBS Sports, and ran statistical analyses to determine the significance of success metrics with a data set found on Kaggle at: https://www.kaggle.com/ncaa/ncaa-basketball**\n",
        "\n"
      ]
    },
    {
      "cell_type": "code",
      "metadata": {
        "id": "8w7U88DcPial",
        "colab_type": "code",
        "outputId": "eb37e3a7-30ce-4b62-9252-6d2c3d112c00",
        "colab": {
          "base_uri": "https://localhost:8080/",
          "height": 129
        }
      },
      "source": [
        "#Get it Together!\n",
        "!pip install --upgrade --quiet gspread\n",
        "\n",
        "from google.colab import auth\n",
        "auth.authenticate_user()\n",
        "\n",
        "import gspread\n",
        "\n",
        "from oauth2client.client import GoogleCredentials\n",
        "\n",
        "from IPython.display import display\n",
        "gc = gspread.authorize(GoogleCredentials.get_application_default())\n",
        "\n",
        "import pandas as pd\n",
        "\n",
        "import matplotlib.pyplot as plt\n",
        "\n",
        "import requests\n",
        "\n",
        "from bs4 import BeautifulSoup\n",
        "\n",
        "from openpyxl import load_workbook\n",
        "from scipy import stats\n",
        "import seaborn as sns\n",
        "sns.set()\n",
        "import warnings\n",
        "warnings.filterwarnings(\"ignore\")\n",
        "\n",
        "from google.colab import drive\n",
        "drive.mount('/content/gdrive')"
      ],
      "execution_count": 0,
      "outputs": [
        {
          "output_type": "stream",
          "text": [
            "Go to this URL in a browser: https://accounts.google.com/o/oauth2/auth?client_id=947318989803-6bn6qk8qdgf4n4g3pfee6491hc0brc4i.apps.googleusercontent.com&redirect_uri=urn%3aietf%3awg%3aoauth%3a2.0%3aoob&response_type=code&scope=email%20https%3a%2f%2fwww.googleapis.com%2fauth%2fdocs.test%20https%3a%2f%2fwww.googleapis.com%2fauth%2fdrive%20https%3a%2f%2fwww.googleapis.com%2fauth%2fdrive.photos.readonly%20https%3a%2f%2fwww.googleapis.com%2fauth%2fpeopleapi.readonly\n",
            "\n",
            "Enter your authorization code:\n",
            "··········\n",
            "Mounted at /content/gdrive\n"
          ],
          "name": "stdout"
        }
      ]
    },
    {
      "cell_type": "markdown",
      "metadata": {
        "id": "cKgqbtxeS86E",
        "colab_type": "text"
      },
      "source": [
        "After importing all of the necessary tools for my webscraping project and my statistic analyses, I created a Google Sheets Workbook and corresponding worksheets where I would later write data.\n"
      ]
    },
    {
      "cell_type": "code",
      "metadata": {
        "id": "yLKovqKYQfsu",
        "colab_type": "code",
        "colab": {}
      },
      "source": [
        "#Create A Workbook!\n",
        "\n",
        "#wb = gc.create('March Madness')\n",
        "sh = gc.open('March Madness')\n",
        "#Create The Sheets!\n",
        "\n",
        "#create_sheet = sh.add_worksheet(title='Scoring', rows='100', cols='20')\n",
        "#create_sheet = sh.add_worksheet(title='Rebounding', rows='100', cols='20')\n",
        "#create_sheet = sh.add_worksheet(title='Shooting', rows='100', cols='20')\n",
        "#create_sheet = sh.add_worksheet(title='Assists', rows='100', cols='20')\n",
        "#create_sheet = sh.add_worksheet(title='Defense', rows='100', cols='20')\n",
        "#create_sheet = sh.add_worksheet(title='Misc', rows='100', cols='20')\n",
        "#create_sheet = sh.add_worksheet(title='Advanced', rows='100', cols='20')\n",
        "#create_sheet = sh.add_worksheet(title='Rankings', rows='100', cols='20')\n",
        "#create_sheet = sh.add_worksheet(title='Logos', rows='100', cols='20')"
      ],
      "execution_count": 0,
      "outputs": []
    },
    {
      "cell_type": "markdown",
      "metadata": {
        "id": "PRK6tGZKTXL7",
        "colab_type": "text"
      },
      "source": [
        "Once I had the workbook designed perfectly for my purposes I created a function that would strip data from Fox Sports and write data in it's corresponding sheet within the workbook."
      ]
    },
    {
      "cell_type": "code",
      "metadata": {
        "id": "c6_J-E3QRQJI",
        "colab_type": "code",
        "colab": {}
      },
      "source": [
        "#Build Function to Strip Stats and Write To Worksheets\n",
        "def strip_and_write(cat):\n",
        "  if cat == 'Scoring':\n",
        "    url_p1 = 'https://www.foxsports.com/college-basketball/team-stats?season=2019&category=SCORING&group=2&time=0&team=1'\n",
        "    sheet = sh.worksheet('Scoring')\n",
        "    cell_list = sheet.range('A1:M1')\n",
        "    cell_list2 = sheet.range('A2:M51')\n",
        "    url_p2 = 'https://www.foxsports.com/college-basketball/team-stats?season=2019&category=SCORING&group=2&sort=1&time=0&pos=0&team=1&qual=1&sortOrder=0&opp=0&page=2'\n",
        "    cell_list3 = sheet.range('A52:M101')\n",
        "    url_p3 = 'https://www.foxsports.com/college-basketball/team-stats?season=2019&category=SCORING&group=2&sort=1&time=0&pos=0&team=1&qual=1&sortOrder=0&opp=0&page=3'\n",
        "    cell_list4 = sheet.range('A102:M151')\n",
        "    url_p4 = 'https://www.foxsports.com/college-basketball/team-stats?season=2019&category=SCORING&group=2&sort=1&time=0&pos=0&team=1&qual=1&sortOrder=0&opp=0&page=4'\n",
        "    cell_list5 = sheet.range('A152:M201')\n",
        "    url_p5 = 'https://www.foxsports.com/college-basketball/team-stats?season=2019&category=SCORING&group=2&sort=1&time=0&pos=0&team=1&qual=1&sortOrder=0&opp=0&page=5'\n",
        "    cell_list6 = sheet.range('A202:M251')\n",
        "    url_p6 = 'https://www.foxsports.com/college-basketball/team-stats?season=2019&category=SCORING&group=2&sort=1&time=0&pos=0&team=1&qual=1&sortOrder=0&opp=0&page=6'\n",
        "    cell_list7 = sheet.range('A252:M301')\n",
        "    url_p7 = 'https://www.foxsports.com/college-basketball/team-stats?season=2019&category=SCORING&group=2&sort=1&time=0&pos=0&team=1&qual=1&sortOrder=0&opp=0&page=7'\n",
        "    cell_list8 = sheet.range('A302:M351')\n",
        "    url_p8 = 'https://www.foxsports.com/college-basketball/team-stats?season=2019&category=SCORING&group=2&sort=1&time=0&pos=0&team=1&qual=1&sortOrder=0&opp=0&page=8'\n",
        "    cell_list9 = sheet.range('A352:M401')\n",
        "  elif cat == 'Rebounding':\n",
        "    url_p1 = 'https://www.foxsports.com/college-basketball/team-stats?season=2019&category=REBOUNDING&group=2&time=0&team=1'\n",
        "    sheet = sh.worksheet('Rebounding')\n",
        "    cell_list = sheet.range('A1:O1')\n",
        "    cell_list2 = sheet.range('A2:O51')\n",
        "    url_p2 = 'https://www.foxsports.com/college-basketball/team-stats?season=2019&category=REBOUNDING&group=2&sort=8&time=0&pos=0&team=1&qual=1&sortOrder=0&opp=0&page=2'\n",
        "    cell_list3 = sheet.range('A52:O101')\n",
        "    url_p3 = 'https://www.foxsports.com/college-basketball/team-stats?season=2019&category=REBOUNDING&group=2&sort=8&time=0&pos=0&team=1&qual=1&sortOrder=0&opp=0&page=3'\n",
        "    cell_list4 = sheet.range('A102:O151')\n",
        "    url_p4 = 'https://www.foxsports.com/college-basketball/team-stats?season=2019&category=REBOUNDING&group=2&sort=8&time=0&pos=0&team=1&qual=1&sortOrder=0&opp=0&page=4'\n",
        "    cell_list5 = sheet.range('A152:O201')\n",
        "    url_p5 = 'https://www.foxsports.com/college-basketball/team-stats?season=2019&category=REBOUNDING&group=2&sort=8&time=0&pos=0&team=1&qual=1&sortOrder=0&opp=0&page=5'\n",
        "    cell_list6 = sheet.range('A202:O251')\n",
        "    url_p6 = 'https://www.foxsports.com/college-basketball/team-stats?season=2019&category=REBOUNDING&group=2&sort=8&time=0&pos=0&team=1&qual=1&sortOrder=0&opp=0&page=6'\n",
        "    cell_list7 = sheet.range('A252:O301')\n",
        "    url_p7 = 'https://www.foxsports.com/college-basketball/team-stats?season=2019&category=REBOUNDING&group=2&sort=8&time=0&pos=0&team=1&qual=1&sortOrder=0&opp=0&page=7'\n",
        "    cell_list8 = sheet.range('A302:O351')\n",
        "    url_p8 = 'https://www.foxsports.com/college-basketball/team-stats?season=2019&category=REBOUNDING&group=2&sort=8&time=0&pos=0&team=1&qual=1&sortOrder=0&opp=0&page=8'\n",
        "    cell_list9 = sheet.range('A352:O401')\n",
        "  elif cat == 'Shooting':\n",
        "    url_p1 = 'https://www.foxsports.com/college-basketball/team-stats?season=2019&category=SHOOTING&group=2&time=0&team=1'\n",
        "    sheet = sh.worksheet('Shooting')\n",
        "    cell_list = sheet.range('A1:U1')\n",
        "    cell_list2 = sheet.range('A2:U51')\n",
        "    url_p2 = 'https://www.foxsports.com/college-basketball/team-stats?season=2019&category=SHOOTING&group=2&sort=6&time=0&pos=0&team=1&qual=1&sortOrder=0&opp=0&page=2'\n",
        "    cell_list3 = sheet.range('A52:U101')\n",
        "    url_p3 = 'https://www.foxsports.com/college-basketball/team-stats?season=2019&category=SHOOTING&group=2&sort=6&time=0&pos=0&team=1&qual=1&sortOrder=0&opp=0&page=3'\n",
        "    cell_list4 = sheet.range('A102:U151')\n",
        "    url_p4 = 'https://www.foxsports.com/college-basketball/team-stats?season=2019&category=SHOOTING&group=2&sort=6&time=0&pos=0&team=1&qual=1&sortOrder=0&opp=0&page=4'\n",
        "    cell_list5 = sheet.range('A152:U201')\n",
        "    url_p5 = 'https://www.foxsports.com/college-basketball/team-stats?season=2019&category=SHOOTING&group=2&sort=6&time=0&pos=0&team=1&qual=1&sortOrder=0&opp=0&page=5'\n",
        "    cell_list6 = sheet.range('A202:U251')\n",
        "    url_p6 = 'https://www.foxsports.com/college-basketball/team-stats?season=2019&category=SHOOTING&group=2&sort=6&time=0&pos=0&team=1&qual=1&sortOrder=0&opp=0&page=6'\n",
        "    cell_list7 = sheet.range('A252:U301')\n",
        "    url_p7 = 'https://www.foxsports.com/college-basketball/team-stats?season=2019&category=SHOOTING&group=2&sort=6&time=0&pos=0&team=1&qual=1&sortOrder=0&opp=0&page=7'\n",
        "    cell_list8 = sheet.range('A302:U351')\n",
        "    url_p8 = 'https://www.foxsports.com/college-basketball/team-stats?season=2019&category=SHOOTING&group=2&sort=6&time=0&pos=0&team=1&qual=1&sortOrder=0&opp=0&page=8'\n",
        "    cell_list9 = sheet.range('A352:U401')\n",
        "  elif cat == 'Defense':\n",
        "    url_p1 = 'https://www.foxsports.com/college-basketball/team-stats?season=2019&category=DEFENSE&group=2&time=0&team=1'\n",
        "    sheet = sh.worksheet('Defense')\n",
        "    cell_list = sheet.range('A1:L1')\n",
        "    cell_list2 = sheet.range('A2:L51')\n",
        "    url_p2 = 'https://www.foxsports.com/college-basketball/team-stats?season=2019&category=DEFENSE&group=2&sort=1&time=0&pos=0&team=1&qual=1&sortOrder=0&opp=0&page=2'\n",
        "    cell_list3 = sheet.range('A52:L101')\n",
        "    url_p3 = 'https://www.foxsports.com/college-basketball/team-stats?season=2019&category=DEFENSE&group=2&sort=1&time=0&pos=0&team=1&qual=1&sortOrder=0&opp=0&page=3'\n",
        "    cell_list4 = sheet.range('A102:L151')\n",
        "    url_p4 = 'https://www.foxsports.com/college-basketball/team-stats?season=2019&category=DEFENSE&group=2&sort=1&time=0&pos=0&team=1&qual=1&sortOrder=0&opp=0&page=4'\n",
        "    cell_list5 = sheet.range('A152:L201')\n",
        "    url_p5 = 'https://www.foxsports.com/college-basketball/team-stats?season=2019&category=DEFENSE&group=2&sort=1&time=0&pos=0&team=1&qual=1&sortOrder=0&opp=0&page=5'\n",
        "    cell_list6 = sheet.range('A202:L251')\n",
        "    url_p6 = 'https://www.foxsports.com/college-basketball/team-stats?season=2019&category=DEFENSE&group=2&sort=1&time=0&pos=0&team=1&qual=1&sortOrder=0&opp=0&page=6'\n",
        "    cell_list7 = sheet.range('A252:L301')\n",
        "    url_p7 = 'https://www.foxsports.com/college-basketball/team-stats?season=2019&category=DEFENSE&group=2&sort=1&time=0&pos=0&team=1&qual=1&sortOrder=0&opp=0&page=7'\n",
        "    cell_list8 = sheet.range('A302:L351')\n",
        "    url_p8 = 'https://www.foxsports.com/college-basketball/team-stats?season=2019&category=DEFENSE&group=2&sort=1&time=0&pos=0&team=1&qual=1&sortOrder=0&opp=0&page=8'\n",
        "    cell_list9 = sheet.range('A352:L401')\n",
        "  elif cat == 'Assists':\n",
        "    url_p1 = 'https://www.foxsports.com/college-basketball/team-stats?season=2019&category=ASSISTS&group=2&time=0&team=1'\n",
        "    sheet = sh.worksheet('Assists')\n",
        "    cell_list = sheet.range('A1:K1')\n",
        "    cell_list2 = sheet.range('A2:K51')\n",
        "    url_p2 = 'https://www.foxsports.com/college-basketball/team-stats?season=2019&category=ASSISTS&group=2&sort=2&time=0&pos=0&team=1&qual=1&sortOrder=0&opp=0&page=2'\n",
        "    cell_list3 = sheet.range('A52:K101')\n",
        "    url_p3 = 'https://www.foxsports.com/college-basketball/team-stats?season=2019&category=ASSISTS&group=2&sort=2&time=0&pos=0&team=1&qual=1&sortOrder=0&opp=0&page=3'\n",
        "    cell_list4 = sheet.range('A102:K151')\n",
        "    url_p4 = 'https://www.foxsports.com/college-basketball/team-stats?season=2019&category=ASSISTS&group=2&sort=2&time=0&pos=0&team=1&qual=1&sortOrder=0&opp=0&page=4'\n",
        "    cell_list5 = sheet.range('A152:K201')\n",
        "    url_p5 = 'https://www.foxsports.com/college-basketball/team-stats?season=2019&category=ASSISTS&group=2&sort=2&time=0&pos=0&team=1&qual=1&sortOrder=0&opp=0&page=5'\n",
        "    cell_list6 = sheet.range('A202:K251')\n",
        "    url_p6 = 'https://www.foxsports.com/college-basketball/team-stats?season=2019&category=ASSISTS&group=2&sort=2&time=0&pos=0&team=1&qual=1&sortOrder=0&opp=0&page=6'\n",
        "    cell_list7 = sheet.range('A252:K301')\n",
        "    url_p7 = 'https://www.foxsports.com/college-basketball/team-stats?season=2019&category=ASSISTS&group=2&sort=2&time=0&pos=0&team=1&qual=1&sortOrder=0&opp=0&page=7'\n",
        "    cell_list8 = sheet.range('A302:K351')\n",
        "    url_p8 = 'https://www.foxsports.com/college-basketball/team-stats?season=2019&category=ASSISTS&group=2&sort=2&time=0&pos=0&team=1&qual=1&sortOrder=0&opp=0&page=8'\n",
        "    cell_list9 = sheet.range('A352:K401')\n",
        "  else:\n",
        "    return 'Category Not Recognized'\n",
        "\n",
        "\n",
        "  #access url\n",
        "  response1 = requests.get(url_p1)\n",
        "  if(response1.ok):\n",
        "    data1 = response1.text\n",
        "  soup = BeautifulSoup(data1, 'html.parser')\n",
        "\n",
        "  #create stats headers\n",
        "  raw_stat_cats = soup.find_all(class_='sorter-digit')\n",
        "  stat_cats = [stat.get_text() for stat in raw_stat_cats]\n",
        "  just_cats = [stat[1:-1] for stat in stat_cats]\n",
        "  headers = ['Team'] + just_cats\n",
        "\n",
        "  #write headers to worksheet\n",
        "  for i, val in enumerate(headers):\n",
        "    cell_list[i].value = val\n",
        "  sheet.update_cells(cell_list)\n",
        "\n",
        "  #create data list\n",
        "  stat_figs_p1 = soup.find_all(class_= 'wisbb_fvStand')\n",
        "  just_stats_p1 = [stat.get_text() for stat in stat_figs_p1]\n",
        "  raw_figs_p1 = [stat.split('\\n') for stat in just_stats_p1]\n",
        "  cooked_figs_p1 = [stat[6:] for stat in raw_figs_p1]\n",
        "  figs_p1 = [list(filter(None, stat)) for stat in cooked_figs_p1]\n",
        "  final_figs_p1 = figs_p1[1:]\n",
        "  stat_list_p1 = [j for i in final_figs_p1 for j in i]\n",
        "\n",
        "  #write list into sheet\n",
        "  for i, val in enumerate(stat_list_p1):\n",
        "    cell_list2[i].value = val\n",
        "  sheet.update_cells(cell_list2)\n",
        "\n",
        "  #repeat process for second stat page 2\n",
        "  response2 = requests.get(url_p2)\n",
        "  if(response2.ok):\n",
        "    data2 = response2.text\n",
        "  soup2 =BeautifulSoup(data2, 'html.parser')\n",
        "\n",
        "  stat_figs_p2 = soup2.find_all(class_= 'wisbb_fvStand')\n",
        "  just_stats_p2 = [stat.get_text() for stat in stat_figs_p2]\n",
        "  raw_figs_p2 = [stat.split('\\n') for stat in just_stats_p2]\n",
        "  cooked_figs_p2 = [stat[5:] for stat in raw_figs_p2]\n",
        "  figs_p2 = [list(filter(None, stat)) for stat in cooked_figs_p2]\n",
        "  final_figs_p2 = figs_p2[1:]\n",
        "  stat_list_p2 = [j for i in final_figs_p2 for j in i]\n",
        "\n",
        "  for i, val in enumerate(stat_list_p2):\n",
        "    cell_list3[i].value = val\n",
        "  sheet.update_cells(cell_list3)\n",
        "\n",
        "#p3\n",
        "  response3 = requests.get(url_p3)\n",
        "  if(response3.ok):\n",
        "    data3 = response3.text\n",
        "  soup3 =BeautifulSoup(data3, 'html.parser')\n",
        "\n",
        "  stat_figs_p3 = soup3.find_all(class_= 'wisbb_fvStand')\n",
        "  just_stats_p3 = [stat.get_text() for stat in stat_figs_p3]\n",
        "  raw_figs_p3 = [stat.split('\\n') for stat in just_stats_p3]\n",
        "  cooked_figs_p3 = [stat[5:] for stat in raw_figs_p3]\n",
        "  figs_p3 = [list(filter(None, stat)) for stat in cooked_figs_p3]\n",
        "  final_figs_p3 = figs_p3[1:]\n",
        "  stat_list_p3 = [j for i in final_figs_p3 for j in i]\n",
        "\n",
        "  for i, val in enumerate(stat_list_p3):\n",
        "    cell_list4[i].value = val\n",
        "  sheet.update_cells(cell_list4)\n",
        "\n",
        "  #p4\n",
        "  response4 = requests.get(url_p4)\n",
        "  if(response4.ok):\n",
        "    data4 = response4.text\n",
        "  soup4 =BeautifulSoup(data4, 'html.parser')\n",
        "\n",
        "  stat_figs_p4 = soup4.find_all(class_= 'wisbb_fvStand')\n",
        "  just_stats_p4 = [stat.get_text() for stat in stat_figs_p4]\n",
        "  raw_figs_p4 = [stat.split('\\n') for stat in just_stats_p4]\n",
        "  cooked_figs_p4 = [stat[5:] for stat in raw_figs_p4]\n",
        "  figs_p4 = [list(filter(None, stat)) for stat in cooked_figs_p4]\n",
        "  final_figs_p4 = figs_p4[1:]\n",
        "  stat_list_p4 = [j for i in final_figs_p4 for j in i]\n",
        "\n",
        "  for i, val in enumerate(stat_list_p4):\n",
        "    cell_list5[i].value = val\n",
        "  sheet.update_cells(cell_list5)\n",
        "\n",
        "  #p5\n",
        "  response5 = requests.get(url_p5)\n",
        "  if(response5.ok):\n",
        "    data5 = response5.text\n",
        "  soup5 =BeautifulSoup(data5, 'html.parser')\n",
        "\n",
        "  stat_figs_p5 = soup5.find_all(class_= 'wisbb_fvStand')\n",
        "  just_stats_p5 = [stat.get_text() for stat in stat_figs_p5]\n",
        "  raw_figs_p5 = [stat.split('\\n') for stat in just_stats_p5]\n",
        "  cooked_figs_p5 = [stat[5:] for stat in raw_figs_p5]\n",
        "  figs_p5 = [list(filter(None, stat)) for stat in cooked_figs_p5]\n",
        "  final_figs_p5 = figs_p5[1:]\n",
        "  stat_list_p5 = [j for i in final_figs_p5 for j in i]\n",
        "\n",
        "  for i, val in enumerate(stat_list_p5):\n",
        "    cell_list6[i].value = val\n",
        "  sheet.update_cells(cell_list6)\n",
        "\n",
        "  #p6\n",
        "  response6 = requests.get(url_p6)\n",
        "  if(response6.ok):\n",
        "    data6 = response6.text\n",
        "  soup6 =BeautifulSoup(data6, 'html.parser')\n",
        "\n",
        "  stat_figs_p6 = soup6.find_all(class_= 'wisbb_fvStand')\n",
        "  just_stats_p6 = [stat.get_text() for stat in stat_figs_p6]\n",
        "  raw_figs_p6 = [stat.split('\\n') for stat in just_stats_p6]\n",
        "  cooked_figs_p6 = [stat[5:] for stat in raw_figs_p6]\n",
        "  figs_p6 = [list(filter(None, stat)) for stat in cooked_figs_p6]\n",
        "  final_figs_p6 = figs_p6[1:]\n",
        "  stat_list_p6 = [j for i in final_figs_p6 for j in i]\n",
        "\n",
        "  for i, val in enumerate(stat_list_p6):\n",
        "    cell_list7[i].value = val\n",
        "  sheet.update_cells(cell_list7)\n",
        "\n",
        "  #p7\n",
        "  response7 = requests.get(url_p7)\n",
        "  if(response7.ok):\n",
        "    data7 = response7.text\n",
        "  soup7 =BeautifulSoup(data7, 'html.parser')\n",
        "\n",
        "  stat_figs_p7 = soup7.find_all(class_= 'wisbb_fvStand')\n",
        "  just_stats_p7 = [stat.get_text() for stat in stat_figs_p7]\n",
        "  raw_figs_p7 = [stat.split('\\n') for stat in just_stats_p7]\n",
        "  cooked_figs_p7 = [stat[5:] for stat in raw_figs_p7]\n",
        "  figs_p7 = [list(filter(None, stat)) for stat in cooked_figs_p7]\n",
        "  final_figs_p7 = figs_p7[1:]\n",
        "  stat_list_p7 = [j for i in final_figs_p7 for j in i]\n",
        "\n",
        "  for i, val in enumerate(stat_list_p7):\n",
        "    cell_list8[i].value = val\n",
        "  sheet.update_cells(cell_list8)\n",
        "\n",
        "  #p8\n",
        "  response8 = requests.get(url_p8)\n",
        "  if(response8.ok):\n",
        "    data8 = response8.text\n",
        "  soup8 =BeautifulSoup(data8, 'html.parser')\n",
        "\n",
        "  stat_figs_p8 = soup8.find_all(class_= 'wisbb_fvStand')\n",
        "  just_stats_p8 = [stat.get_text() for stat in stat_figs_p8]\n",
        "  raw_figs_p8 = [stat.split('\\n') for stat in just_stats_p8]\n",
        "  cooked_figs_p8 = [stat[5:] for stat in raw_figs_p8]\n",
        "  figs_p8 = [list(filter(None, stat)) for stat in cooked_figs_p8]\n",
        "  final_figs_p8 = figs_p8[1:]\n",
        "  stat_list_p8 = [j for i in final_figs_p8 for j in i]\n",
        "\n",
        "  for i, val in enumerate(stat_list_p8):\n",
        "    cell_list9[i].value = val\n",
        "  sheet.update_cells(cell_list9)"
      ],
      "execution_count": 0,
      "outputs": []
    },
    {
      "cell_type": "markdown",
      "metadata": {
        "id": "8ZmfXs-MWn5E",
        "colab_type": "text"
      },
      "source": [
        "With an effective function written, I can now easily create a single cell the updates the stats in my workbook upon being run."
      ]
    },
    {
      "cell_type": "code",
      "metadata": {
        "id": "WRIsuoMzgAKJ",
        "colab_type": "code",
        "colab": {}
      },
      "source": [
        "# write updated stat into spreadsheets\n",
        "strip_and_write('Scoring')\n",
        "strip_and_write('Rebounding')\n",
        "strip_and_write('Shooting')\n",
        "strip_and_write('Defense')\n",
        "strip_and_write('Assists')\n"
      ],
      "execution_count": 0,
      "outputs": []
    },
    {
      "cell_type": "markdown",
      "metadata": {
        "id": "teD3GMOTT7fj",
        "colab_type": "text"
      },
      "source": [
        "Next, for asthetic and organizational purposes of my dashboard, I began the process of writing a list of the top 68 NCAA teams and a list of url's to their corresponding team logos. Since the rank and logos are from a different web source than the data that will be used to compare each team, I needed to observe which team names needed to be edited and created a function to swap team names that did not match between the two data sets.\n"
      ]
    },
    {
      "cell_type": "code",
      "metadata": {
        "id": "bjYgR6Lem3RX",
        "colab_type": "code",
        "outputId": "789f36f5-c34d-4dd9-96fd-0702b011ccb2",
        "colab": {
          "base_uri": "https://localhost:8080/",
          "height": 147
        }
      },
      "source": [
        "#Get Ranked List With Logos\n",
        "logo_ranks_url = 'https://www.cbssports.com/college-basketball/bracketology/'\n",
        "logo_response = requests.get(logo_ranks_url)\n",
        "if(logo_response.ok):\n",
        "  logo_data = logo_response.text\n",
        "logo_soup = BeautifulSoup(logo_data, 'html.parser')\n",
        "#write team names and logo urls into lists\n",
        "raw_logo_data = logo_soup.find_all(class_='table-base has-border-full has-row-span-hover has-cell-padding-default')\n",
        "logos = logo_soup.findAll('a', {'om-event':True})\n",
        "names_text = [i.get_text() for i in logos]\n",
        "names_text = [stat.split('\\n') for stat in names_text]\n",
        "names_text = [list(filter(None, stat)) for stat in names_text]\n",
        "names_text = [j for i in names_text for j in i]\n",
        "names_text = names_text[9:]\n",
        "\n",
        "logos_list = []\n",
        "print(names_text)\n",
        "for item in logos:\n",
        "  item1 = item.find_all('figure')\n",
        "  for subitem in item1:\n",
        "    logos_list.append(subitem.find('img')['data-lazy'].strip())\n",
        "logos_list = logos_list[9:]\n",
        "\n",
        "#make team names match the rest of sheet\n",
        "def swap(old_team, new_team):\n",
        "  i = names_text.index(old_team)\n",
        "  names_text.remove(old_team)\n",
        "  names_text.insert(i, new_team)\n",
        "\n",
        "swap('Florida St.', 'FSU')\n",
        "swap('San Diego St', 'San Diego State')\n",
        "swap('Michigan St.', 'Michigan State')\n",
        "swap('Ohio St.', 'Ohio')\n",
        "swap('Penn St.', 'Penn State')\n",
        "swap('W. Virginia', 'West Virginia')\n",
        "swap('Virginia', 'UVA')\n",
        "swap('Arizona St.', 'Arizona State')\n",
        "swap('Utah St.', 'Utah State')\n",
        "swap('Wichita St.', 'Wichita State')\n",
        "swap('ETSU', 'E Tennessee State')\n",
        "swap('SF Austin', 'Stephen F Austin')\n",
        "swap('N. Mex. St.', 'NMSU')\n",
        "swap('E. Washington', 'E Washington')\n",
        "swap('NC Central', 'N Carolina Cent')\n",
        "swap('N. Dak. St.', 'North Dakota St')\n",
        "swap('Prairie View','PV')\n",
        "swap('NC State', 'North Carolina St')\n",
        "swap('Miss. State', 'MSST')\n",
        "\n",
        "#write lists into sheet\n",
        "\n",
        "logo_sheet = sh.worksheet('Logos')\n",
        "cell_list7 = logo_sheet.range('A1:A100')\n",
        "cell_list8 = logo_sheet.range('B1:B100')\n",
        "\n",
        "for i, val in enumerate(names_text):\n",
        "  cell_list7[i].value = val\n",
        "logo_sheet.update_cells(cell_list7)\n",
        "\n",
        "for i, val in enumerate(logos_list):\n",
        "  cell_list8[i].value = val\n",
        "logo_sheet.update_cells(cell_list8)\n",
        "\n",
        "\n",
        "  \n",
        "\n",
        "\n"
      ],
      "execution_count": 0,
      "outputs": [
        {
          "output_type": "stream",
          "text": [
            "['Dayton', 'Kansas', 'Baylor', 'Gonzaga', 'Villanova', 'Creighton', 'Florida St.', 'San Diego St', 'Michigan St.', 'Duke', 'Maryland', 'Seton Hall', 'Louisville', 'Kentucky', 'Butler', 'Oregon', 'Auburn', 'Wisconsin', 'Ohio St.', 'Penn St.', 'W. Virginia', 'Illinois', 'Virginia', 'BYU', 'USC', 'Michigan', 'Providence', 'Iowa', 'Colorado', \"Saint Mary's\", 'Arizona St.', 'Houston', 'Florida', 'Arizona', 'Marquette', 'Oklahoma', 'Indiana', 'Utah St.', 'LSU', 'Xavier', 'Cincinnati', 'Richmond', 'Wichita St.', 'Stanford', 'Rutgers', 'UCLA', 'Akron', 'ETSU', 'Yale', 'SF Austin', 'Liberty', 'Vermont', 'Bradley', 'N. Mex. St.', 'North Texas', 'Little Rock', 'UC Irvine', 'Hofstra', 'Colgate', 'Belmont', 'N. Dak. St.', 'E. Washington', 'N. Kentucky', 'NC Central', 'Robert Morris', 'Winthrop', 'Siena', 'Prairie View', 'Texas Tech', 'Miss. State', 'NC State', 'Texas', 'Indiana', 'Xavier', 'Cincinnati', 'ETSU', 'Miss. State', 'NC State', 'Northern Iowa', 'Richmond', 'Rutgers', 'Stanford', 'Texas', 'Texas Tech', 'UCLA', 'Wichita St.']\n"
          ],
          "name": "stdout"
        },
        {
          "output_type": "execute_result",
          "data": {
            "text/plain": [
              "{'spreadsheetId': '1Uq_yhxnmoOm-hPbi4MO0e5rAKNTVx_Ao_NfEmPFzebk',\n",
              " 'updatedCells': 100,\n",
              " 'updatedColumns': 1,\n",
              " 'updatedRange': 'Logos!B1:B100',\n",
              " 'updatedRows': 100}"
            ]
          },
          "metadata": {
            "tags": []
          },
          "execution_count": 6
        }
      ]
    },
    {
      "cell_type": "markdown",
      "metadata": {
        "id": "kqEQeimdUson",
        "colab_type": "text"
      },
      "source": [
        "With my scraped data set complete written safely into a google sheet, I begn to develop my hypothesis for my statistical analysis. At the outset of my project I hypothesized that the ['Four Factors'](https://www.basketball-reference.com/about/factors.html) would each have a notable correlation with wins and the highest correlation to wins in the 19-20 college basketball season of all advanced stats. I looked to test this hypothesis using an advanced stats data set found on [Kaggle](https://www.kaggle.com/ncaa/ncaa-basketball).\n",
        "\n"
      ]
    },
    {
      "cell_type": "code",
      "metadata": {
        "id": "3hqvwhegxZEC",
        "colab_type": "code",
        "outputId": "cc2efa9a-eaae-4d51-c65a-d1bfc2bc2fc6",
        "colab": {
          "base_uri": "https://localhost:8080/",
          "height": 844
        }
      },
      "source": [
        "\n",
        "#Get worksheet data into Data Frame\n",
        "wks = gc.open(\"Kaggle NCAA 19 Data\").sheet1\n",
        "data = wks.get_all_values()\n",
        "headers = data.pop(0)\n",
        "df = pd.DataFrame(data, columns=headers)\n",
        "print(df.head())\n",
        "print(df.shape)\n",
        "print(df.info())\n",
        "print(df.describe())"
      ],
      "execution_count": 0,
      "outputs": [
        {
          "output_type": "stream",
          "text": [
            "             TEAM CONF   G   W  ADJOE  ...  3P_D ADJ_T   WAB POSTSEASON SEED\n",
            "0         Gonzaga  WCC  37  33  123.4  ...  30.4    72     7         E8    1\n",
            "1        Virginia  ACC  38  35    123  ...  28.9  60.7  11.1  Champions    1\n",
            "2            Duke  ACC  38  32  118.9  ...  29.9  73.6  11.2         E8    1\n",
            "3  North Carolina  ACC  36  29  120.1  ...  33.5    76    10        S16    1\n",
            "4        Michigan  B10  37  30  114.6  ...  29.1  65.9   9.2        S16    2\n",
            "\n",
            "[5 rows x 23 columns]\n",
            "(353, 23)\n",
            "<class 'pandas.core.frame.DataFrame'>\n",
            "RangeIndex: 353 entries, 0 to 352\n",
            "Data columns (total 23 columns):\n",
            "TEAM          353 non-null object\n",
            "CONF          353 non-null object\n",
            "G             353 non-null object\n",
            "W             353 non-null object\n",
            "ADJOE         353 non-null object\n",
            "ADJDE         353 non-null object\n",
            "BARTHAG       353 non-null object\n",
            "EFG_O         353 non-null object\n",
            "EFG_D         353 non-null object\n",
            "TOR           353 non-null object\n",
            "TORD          353 non-null object\n",
            "ORB           353 non-null object\n",
            "DRB           353 non-null object\n",
            "FTR           353 non-null object\n",
            "FTRD          353 non-null object\n",
            "2P_O          353 non-null object\n",
            "2P_D          353 non-null object\n",
            "3P_O          353 non-null object\n",
            "3P_D          353 non-null object\n",
            "ADJ_T         353 non-null object\n",
            "WAB           353 non-null object\n",
            "POSTSEASON    353 non-null object\n",
            "SEED          353 non-null object\n",
            "dtypes: object(23)\n",
            "memory usage: 63.6+ KB\n",
            "None\n",
            "             TEAM CONF    G    W  ADJOE  ...  3P_D ADJ_T  WAB POSTSEASON SEED\n",
            "count         353  353  353  353    353  ...   353   353  353        353  353\n",
            "unique        353   32   14   32    192  ...    98   107  197          9   17\n",
            "top     Texas St.  ACC   31   20  107.3  ...  34.2  66.4   -9         NA   NA\n",
            "freq            1   15   68   24      6  ...    10     9    6        285  285\n",
            "\n",
            "[4 rows x 23 columns]\n"
          ],
          "name": "stdout"
        }
      ]
    },
    {
      "cell_type": "markdown",
      "metadata": {
        "id": "eYl9z1xRLDrN",
        "colab_type": "text"
      },
      "source": [
        "After getting a better idea of the amount of information supplied by the data set I tested my first hypothesis: each of the four factors had a distinct correlation to wins in the 19-20 college basketball season.\n"
      ]
    },
    {
      "cell_type": "code",
      "metadata": {
        "id": "67Ya3MKS0H3h",
        "colab_type": "code",
        "outputId": "8ab46f15-efa7-4aaa-d6f4-ffaad01d7681",
        "colab": {
          "base_uri": "https://localhost:8080/",
          "height": 237
        }
      },
      "source": [
        "print('Pearson Correlation Coefficient between EFG_O and W is:')\n",
        "print(df['W'].astype(float).corr(df['EFG_O'].astype(float)))\n",
        "print('Pearson Correlation Coefficient between EFG_D and W is:')\n",
        "print(df['W'].astype(float).corr(df['EFG_D'].astype(float)))\n",
        "print('Pearson Correlation Coefficient between TOR and W is:')\n",
        "print(df['W'].astype(float).corr(df['TOR'].astype(float)))\n",
        "print('Pearson Correlation Coefficient between ORB and W is:')\n",
        "print(df['W'].astype(float).corr(df['ORB'].astype(float)))\n",
        "print('Pearson Correlation Coefficient between DRB and W is:')\n",
        "print(df['W'].astype(float).corr(df['DRB'].astype(float)))\n",
        "print('Pearson Correlation Coefficient between FTR and W is:')\n",
        "\n",
        "print(df['W'].astype(float).corr(df['FTR'].astype(float)))"
      ],
      "execution_count": 0,
      "outputs": [
        {
          "output_type": "stream",
          "text": [
            "Pearson Correlation Coefficient between EFG_O and W is:\n",
            "0.5875499187376069\n",
            "Pearson Correlation Coefficient between EFG_D and W is:\n",
            "-0.6475086876913545\n",
            "Pearson Correlation Coefficient between TOR and W is:\n",
            "-0.45730937686468215\n",
            "Pearson Correlation Coefficient between ORB and W is:\n",
            "0.31970583981348777\n",
            "Pearson Correlation Coefficient between DRB and W is:\n",
            "-0.29189457225189114\n",
            "Pearson Correlation Coefficient between FTR and W is:\n",
            "0.150735485732343\n"
          ],
          "name": "stdout"
        }
      ]
    },
    {
      "cell_type": "markdown",
      "metadata": {
        "id": "ShZ56fe0MNF8",
        "colab_type": "text"
      },
      "source": [
        "Judging from the Pearson Correlation Coefficient of each advanced statistic, we can see that each factor has a varying degree of correlation to wins, some positive, some negative. But can we trust these indicators to be significant?"
      ]
    },
    {
      "cell_type": "code",
      "metadata": {
        "id": "_Z4u49xT-zPI",
        "colab_type": "code",
        "outputId": "1cd0a0fc-8bff-4244-e05c-683869da0363",
        "colab": {
          "base_uri": "https://localhost:8080/",
          "height": 237
        }
      },
      "source": [
        "print('The statistical signigicance of the correlation between W and EFG_O is:')\n",
        "print(stats.pearsonr(df['W'].astype(float), df['EFG_O'].astype(float)))\n",
        "print('The statistical signigicance of the correlation between W and EFG_D is:')\n",
        "print(stats.pearsonr(df['W'].astype(float), df['EFG_D'].astype(float)))\n",
        "print('The statistical signigicance of the correlation between W and TOR is:')\n",
        "print(stats.pearsonr(df['W'].astype(float), df['TOR'].astype(float)))\n",
        "print('The statistical signigicance of the correlation between W and ORB is:')\n",
        "print(stats.pearsonr(df['W'].astype(float), df['ORB'].astype(float)))\n",
        "print('The statistical signigicance of the correlation between W and DRB is:')\n",
        "print(stats.pearsonr(df['W'].astype(float), df['DRB'].astype(float)))\n",
        "print('The statistical signigicance of the correlation between W and FTR is:')\n",
        "print(stats.pearsonr(df['W'].astype(float), df['FTR'].astype(float)))"
      ],
      "execution_count": 0,
      "outputs": [
        {
          "output_type": "stream",
          "text": [
            "The statistical signigicance of the correlation between W and EFG_O is:\n",
            "(0.5875499187376072, 3.8279452412213556e-34)\n",
            "The statistical signigicance of the correlation between W and EFG_D is:\n",
            "(-0.647508687691355, 2.4765937130012632e-43)\n",
            "The statistical signigicance of the correlation between W and TOR is:\n",
            "(-0.45730937686468226, 1.2064178672745367e-19)\n",
            "The statistical signigicance of the correlation between W and ORB is:\n",
            "(0.31970583981348805, 7.871087405200079e-10)\n",
            "The statistical signigicance of the correlation between W and DRB is:\n",
            "(-0.2918945722518915, 2.311817560532508e-08)\n",
            "The statistical signigicance of the correlation between W and FTR is:\n",
            "(0.15073548573234302, 0.004536137519544417)\n"
          ],
          "name": "stdout"
        }
      ]
    },
    {
      "cell_type": "markdown",
      "metadata": {
        "id": "2X-Tt6gqMkYL",
        "colab_type": "text"
      },
      "source": [
        "In the case of each factor p<.05, indicating the significance of each statistic's correlation to wins."
      ]
    },
    {
      "cell_type": "code",
      "metadata": {
        "id": "Y37iii3HEyXp",
        "colab_type": "code",
        "outputId": "04def560-f53e-4f17-dba6-366d4ad6438a",
        "colab": {
          "base_uri": "https://localhost:8080/",
          "height": 146
        }
      },
      "source": [
        "print('EFG_D has the strongest correlation to W. The correlation is negative.')\n",
        "print('EFG_O has the next strongest correlation to W. The correlation is positive.')\n",
        "print('TOR has a notable negative correlation to W')\n",
        "print('ORB has a fair, positive correlation to W')\n",
        "print('DRB has a smaller, negative correlation to W')\n",
        "print('FTR has the smallest correlation to W. The correlation is positive.')\n",
        "print( 'All correlations are likely significant as all p values < .05')"
      ],
      "execution_count": 0,
      "outputs": [
        {
          "output_type": "stream",
          "text": [
            "EFG_D has the strongest correlation to W. The correlation is negative.\n",
            "EFG_O has the next strongest correlation to W. The correlation is positive.\n",
            "TOR has a notable negative correlation to W\n",
            "ORB has a fair, positive correlation to W\n",
            "DRB has a smaller, negative correlation to W\n",
            "FTR has the smallest correlation to W. The correlation is positive.\n",
            "All correlations are likely significant as all p values < .05\n"
          ],
          "name": "stdout"
        }
      ]
    },
    {
      "cell_type": "markdown",
      "metadata": {
        "id": "XHQHPOsSM1vG",
        "colab_type": "text"
      },
      "source": [
        "We fail to reject our first hypothesis that the four factors are indeed indicators of success for the 19-20 NCAA basketball season. Now it is time to test our second hypothesis that the four factors have a greater significant correlation to wins than other advanced stats. In this case, I used offensive and defensive three point shooting percentages to test this hypothesis."
      ]
    },
    {
      "cell_type": "code",
      "metadata": {
        "id": "GJvda0ZilfrK",
        "colab_type": "code",
        "outputId": "843c6c22-1e74-48fd-ba4c-f181720551ac",
        "colab": {
          "base_uri": "https://localhost:8080/",
          "height": 90
        }
      },
      "source": [
        "print('The statistical signigicance of the correlation between W and 3P_O is:')\n",
        "print(stats.pearsonr(df['W'].astype(float), df['3P_O'].astype(float)))\n",
        "print('The statistical signigicance of the correlation between W and 3P_D is:')\n",
        "print(stats.pearsonr(df['W'].astype(float), df['3P_D'].astype(float)))"
      ],
      "execution_count": 0,
      "outputs": [
        {
          "output_type": "stream",
          "text": [
            "The statistical signigicance of the correlation between W and 3P_O is:\n",
            "(0.36089931577476475, 2.676710237948717e-12)\n",
            "The statistical signigicance of the correlation between W and 3P_D is:\n",
            "(-0.5113619677733519, 6.505426035423296e-25)\n"
          ],
          "name": "stdout"
        }
      ]
    },
    {
      "cell_type": "markdown",
      "metadata": {
        "id": "8ppHY5TQNmUB",
        "colab_type": "text"
      },
      "source": [
        "Observing the Pearson Correlation Coefficient and the p value for these two new factors we can assert that the two three point shooting stats have a higher significant correlation with success than some of the metrics in the \"Four Factors\""
      ]
    },
    {
      "cell_type": "code",
      "metadata": {
        "id": "IsvZE8Ydlv8N",
        "colab_type": "code",
        "outputId": "3c5fc8e9-9b19-41b6-cb3c-4e68366773ec",
        "colab": {
          "base_uri": "https://localhost:8080/",
          "height": 74
        }
      },
      "source": [
        "print('In this season of basketball 3P_D had a very high negative correlation to W and 3P_O had a fair positive correlation')\n",
        "print('Both correlations are significant as p <.05')"
      ],
      "execution_count": 0,
      "outputs": [
        {
          "output_type": "stream",
          "text": [
            "In this season of basketball 3P_D had a very high negative correlation to W and 3P_O had a fair positive correlation\n",
            "Both correlations are significant as p <.05\n"
          ],
          "name": "stdout"
        }
      ]
    },
    {
      "cell_type": "markdown",
      "metadata": {
        "id": "mlcVBdfXOLbv",
        "colab_type": "text"
      },
      "source": [
        "With this test, we reject the hypothesis that the four factors are the strongest indicators of success among advanced stats. Using the correlation coefficients of each advanced statistic we can give each statistic a weight based on the strength of its correlation to winning in the 19-20 NCAA season."
      ]
    },
    {
      "cell_type": "code",
      "metadata": {
        "id": "33EBUz15KGjz",
        "colab_type": "code",
        "outputId": "29ebfea2-5afe-4a3e-ffe0-58201c4cc0de",
        "colab": {
          "base_uri": "https://localhost:8080/",
          "height": 329
        }
      },
      "source": [
        "print('The Four Factors are traditionally assigned these weights:')\n",
        "print('Shooting (40%)') \n",
        "print('Turnovers (25%)')\n",
        "print('Rebounding (20%)')\n",
        "print('Free Throws (15%)')\n",
        "print('')\n",
        "print('Based on the Pearson Correlation Coefficient, we will ')\n",
        "print('assign a new weight that indicates the correlation to ')\n",
        "print('success of each category:')\n",
        "print('EFG_D (20%)')\n",
        "print('EFG_O (18%)')\n",
        "print('3P_D (16%)')\n",
        "print('TOR (14%)')\n",
        "print('3P_D (11%)')\n",
        "print('ORB (9%)')\n",
        "print('DRB (8%)')\n",
        "print('FTR (4%)')"
      ],
      "execution_count": 0,
      "outputs": [
        {
          "output_type": "stream",
          "text": [
            "The Four Factors are traditionally assigned these weights:\n",
            "Shooting (40%)\n",
            "Turnovers (25%)\n",
            "Rebounding (20%)\n",
            "Free Throws (15%)\n",
            "\n",
            "Based on the Pearson Correlation Coefficient, we will \n",
            "assign a new weight that indicates the correlation to \n",
            "success of each category:\n",
            "EFG_D (20%)\n",
            "EFG_O (18%)\n",
            "3P_D (16%)\n",
            "TOR (14%)\n",
            "3P_D (11%)\n",
            "ORB (9%)\n",
            "DRB (8%)\n",
            "FTR (4%)\n"
          ],
          "name": "stdout"
        }
      ]
    },
    {
      "cell_type": "markdown",
      "metadata": {
        "id": "iyP5HZLUR48x",
        "colab_type": "text"
      },
      "source": [
        "The weights for each statistic will be used in our dashboard to measure each team's performance in metrics correlated with success."
      ]
    },
    {
      "cell_type": "markdown",
      "metadata": {
        "id": "5t7rBSSeSM5U",
        "colab_type": "text"
      },
      "source": [
        "Now that we have determined the factors that we will use to compare teams in the March Madness bracket, lets do some exploratory data analysis into the data set that we have created with the [data scraped from Fox Sports](https://docs.google.com/spreadsheets/d/1Uq_yhxnmoOm-hPbi4MO0e5rAKNTVx_Ao_NfEmPFzebk/edit?usp=sharing)."
      ]
    },
    {
      "cell_type": "code",
      "metadata": {
        "id": "bkYbwEoxRxJ8",
        "colab_type": "code",
        "outputId": "e0027561-5652-4ff3-dc90-3811aa62f3de",
        "colab": {
          "base_uri": "https://localhost:8080/",
          "height": 1000
        }
      },
      "source": [
        "# Get worksheet data into dataframes\n",
        "scoring_sheet = sh.worksheet('Scoring')\n",
        "rebounding_sheet = sh.worksheet('Rebounding')\n",
        "shooting_sheet = sh.worksheet('Shooting')\n",
        "defense_sheet = sh.worksheet('Defense')\n",
        "assists_sheet = sh.worksheet('Assists')\n",
        "\n",
        "scoring_data = scoring_sheet.get_all_values()\n",
        "scoring_headers = scoring_data.pop(0)\n",
        "scoring_df = pd.DataFrame(scoring_data, columns=scoring_headers)\n",
        "print('Scoring info')\n",
        "print(scoring_df.info())\n",
        "\n",
        "rebounding_data = rebounding_sheet.get_all_values()\n",
        "rebounding_headers = rebounding_data.pop(0)\n",
        "rebounding_df = pd.DataFrame(rebounding_data, columns=rebounding_headers)\n",
        "print('Rebounding info')\n",
        "print(rebounding_df.info())\n",
        "\n",
        "shooting_data = shooting_sheet.get_all_values()\n",
        "shooting_headers = shooting_data.pop(0)\n",
        "shooting_df = pd.DataFrame(shooting_data, columns=shooting_headers)\n",
        "print('Shooting info')\n",
        "print(shooting_df.info())\n",
        "\n",
        "defense_data = defense_sheet.get_all_values()\n",
        "defense_headers = defense_data.pop(0)\n",
        "defense_df = pd.DataFrame(defense_data, columns=defense_headers)\n",
        "print('Defense info')\n",
        "print(defense_df.info())\n",
        "\n",
        "assists_data = assists_sheet.get_all_values()\n",
        "assists_headers = assists_data.pop(0)\n",
        "assists_df = pd.DataFrame(assists_data, columns=assists_headers)\n",
        "print('Assists info')\n",
        "print(assists_df.info())\n"
      ],
      "execution_count": 0,
      "outputs": [
        {
          "output_type": "stream",
          "text": [
            "Scoring info\n",
            "<class 'pandas.core.frame.DataFrame'>\n",
            "RangeIndex: 353 entries, 0 to 352\n",
            "Data columns (total 13 columns):\n",
            "Team          353 non-null object\n",
            "GP            353 non-null object\n",
            "PPG           353 non-null object\n",
            "PPG ALLOW     353 non-null object\n",
            "PPG DIFF      353 non-null object\n",
            "FG%           353 non-null object\n",
            "FG% ALLOW     353 non-null object\n",
            "3FG%          353 non-null object\n",
            "3FG% ALLOW    353 non-null object\n",
            "FT%           353 non-null object\n",
            "FT% ALLOW     353 non-null object\n",
            "PPS           353 non-null object\n",
            "PTS/POSS      353 non-null object\n",
            "dtypes: object(13)\n",
            "memory usage: 36.0+ KB\n",
            "None\n",
            "Rebounding info\n",
            "<class 'pandas.core.frame.DataFrame'>\n",
            "RangeIndex: 353 entries, 0 to 352\n",
            "Columns: 353 entries, Team to \n",
            "dtypes: object(353)\n",
            "memory usage: 973.6+ KB\n",
            "None\n",
            "Shooting info\n",
            "<class 'pandas.core.frame.DataFrame'>\n",
            "RangeIndex: 353 entries, 0 to 352\n",
            "Data columns (total 22 columns):\n",
            "Team       353 non-null object\n",
            "GP         353 non-null object\n",
            "PPG        353 non-null object\n",
            "FGM        353 non-null object\n",
            "FGA        353 non-null object\n",
            "FGM/G      353 non-null object\n",
            "FGA/G      353 non-null object\n",
            "FG%        353 non-null object\n",
            "3FGM       353 non-null object\n",
            "3FGA       353 non-null object\n",
            "3FGM/G     353 non-null object\n",
            "3FGA/G     353 non-null object\n",
            "3FG%       353 non-null object\n",
            "FTM        353 non-null object\n",
            "FTA        353 non-null object\n",
            "FTM/G      353 non-null object\n",
            "FTA/G      353 non-null object\n",
            "FT%        353 non-null object\n",
            "PPS        353 non-null object\n",
            "TS%        353 non-null object\n",
            "eFG%       353 non-null object\n",
            "FTM/FGA    353 non-null object\n",
            "dtypes: object(22)\n",
            "memory usage: 60.8+ KB\n",
            "None\n",
            "Defense info\n",
            "<class 'pandas.core.frame.DataFrame'>\n",
            "RangeIndex: 353 entries, 0 to 352\n",
            "Data columns (total 12 columns):\n",
            "Team          353 non-null object\n",
            "GP            353 non-null object\n",
            "PPG ALLOW     353 non-null object\n",
            "FG% ALLOW     353 non-null object\n",
            "3FG% ALLOW    353 non-null object\n",
            "eFG% ALLOW    353 non-null object\n",
            "TS% ALLOW     353 non-null object\n",
            "STL           353 non-null object\n",
            "SPG           353 non-null object\n",
            "BLK           353 non-null object\n",
            "BPG           353 non-null object\n",
            "TPG ALLOW     353 non-null object\n",
            "dtypes: object(12)\n",
            "memory usage: 33.2+ KB\n",
            "None\n",
            "Assists info\n",
            "<class 'pandas.core.frame.DataFrame'>\n",
            "RangeIndex: 353 entries, 0 to 352\n",
            "Data columns (total 11 columns):\n",
            "Team         353 non-null object\n",
            "GP           353 non-null object\n",
            "AST          353 non-null object\n",
            "APG          353 non-null object\n",
            "APG ALLOW    353 non-null object\n",
            "TO           353 non-null object\n",
            "TPG          353 non-null object\n",
            "TPG ALLOW    353 non-null object\n",
            "TPG DIFF     353 non-null object\n",
            "TO%          353 non-null object\n",
            "AST/TO       353 non-null object\n",
            "dtypes: object(11)\n",
            "memory usage: 30.5+ KB\n",
            "None\n"
          ],
          "name": "stdout"
        }
      ]
    },
    {
      "cell_type": "markdown",
      "metadata": {
        "id": "u2Zosn6-bQgu",
        "colab_type": "text"
      },
      "source": [
        "Initially we see that most of the data sets have the correct columns and the right number of entries, except for 'Shooting' Which has 402 entries rather than 353."
      ]
    },
    {
      "cell_type": "markdown",
      "metadata": {
        "id": "tw4M70s8b7s5",
        "colab_type": "text"
      },
      "source": [
        "Taking a second look at the sheet, I found the error and removed the extra entry rows, updated the statistics again retreived the Shooting info once again to confirm that the data set is the correct size and shape"
      ]
    },
    {
      "cell_type": "code",
      "metadata": {
        "id": "K0zQ5mr3V6bx",
        "colab_type": "code",
        "outputId": "b94e31b3-27e7-49d4-9225-01162dcb331d",
        "colab": {
          "base_uri": "https://localhost:8080/",
          "height": 550
        }
      },
      "source": [
        "shooting_data = shooting_sheet.get_all_values()\n",
        "shooting_headers = shooting_data.pop(0)\n",
        "shooting_df = pd.DataFrame(shooting_data, columns=shooting_headers)\n",
        "print('Shooting info')\n",
        "print(shooting_df.info())"
      ],
      "execution_count": 0,
      "outputs": [
        {
          "output_type": "stream",
          "text": [
            "Shooting info\n",
            "<class 'pandas.core.frame.DataFrame'>\n",
            "RangeIndex: 353 entries, 0 to 352\n",
            "Data columns (total 22 columns):\n",
            "Team       353 non-null object\n",
            "GP         353 non-null object\n",
            "PPG        353 non-null object\n",
            "FGM        353 non-null object\n",
            "FGA        353 non-null object\n",
            "FGM/G      353 non-null object\n",
            "FGA/G      353 non-null object\n",
            "FG%        353 non-null object\n",
            "3FGM       353 non-null object\n",
            "3FGA       353 non-null object\n",
            "3FGM/G     353 non-null object\n",
            "3FGA/G     353 non-null object\n",
            "3FG%       353 non-null object\n",
            "FTM        353 non-null object\n",
            "FTA        353 non-null object\n",
            "FTM/G      353 non-null object\n",
            "FTA/G      353 non-null object\n",
            "FT%        353 non-null object\n",
            "PPS        353 non-null object\n",
            "TS%        353 non-null object\n",
            "eFG%       353 non-null object\n",
            "FTM/FGA    353 non-null object\n",
            "dtypes: object(22)\n",
            "memory usage: 60.8+ KB\n",
            "None\n"
          ],
          "name": "stdout"
        }
      ]
    },
    {
      "cell_type": "markdown",
      "metadata": {
        "id": "wZBHho2YcXHx",
        "colab_type": "text"
      },
      "source": [
        "To get a better idea of what the advanced stats we are concerned with look across each the whole NCAA I will run some descriptive statistics."
      ]
    },
    {
      "cell_type": "code",
      "metadata": {
        "id": "oyqM4Bfwb5fs",
        "colab_type": "code",
        "outputId": "b2090700-8acf-43c4-bd56-270a47ccf145",
        "colab": {
          "base_uri": "https://localhost:8080/",
          "height": 1000
        }
      },
      "source": [
        "# get descriptive stats for each factor we will compare\n",
        "print('eFG% Descriptive Stats')\n",
        "print(shooting_df['eFG%'].astype(float).describe())\n",
        "print('eFG% ALLOW Descriptive Stats')\n",
        "print(defense_df['eFG% ALLOW'].astype(float).describe())\n",
        "print('TO% Descriptive Stats')\n",
        "print(assists_df['TO%'].astype(float).describe())\n",
        "print('OFF REB% Descriptive Stats')\n",
        "print(rebounding_df['OFF REB%'].astype(float).describe())\n",
        "print('DEF REB% Descriptive Stats')\n",
        "print(rebounding_df['DEF REB%'].astype(float).describe())\n",
        "print('FTM/FGA Descriptive Stats')\n",
        "print(shooting_df['FTM/FGA'].astype(float).describe())\n",
        "print('3FG% Descriptive Stats')\n",
        "print(scoring_df['3FG%'].astype(float).describe())\n",
        "print('3FG% ALLOW Descriptive Stats')\n",
        "print(scoring_df['3FG% ALLOW'].astype(float).describe())\n"
      ],
      "execution_count": 0,
      "outputs": [
        {
          "output_type": "stream",
          "text": [
            "eFG% Descriptive Stats\n",
            "count    353.000000\n",
            "mean       0.500054\n",
            "std        0.028046\n",
            "min        0.393000\n",
            "25%        0.483000\n",
            "50%        0.499000\n",
            "75%        0.518000\n",
            "max        0.597000\n",
            "Name: eFG%, dtype: float64\n",
            "eFG% ALLOW Descriptive Stats\n",
            "count    353.000000\n",
            "mean       0.491884\n",
            "std        0.026247\n",
            "min        0.412000\n",
            "25%        0.472000\n",
            "50%        0.492000\n",
            "75%        0.509000\n",
            "max        0.581000\n",
            "Name: eFG% ALLOW, dtype: float64\n",
            "TO% Descriptive Stats\n",
            "count    353.000000\n",
            "mean      16.611615\n",
            "std        1.711328\n",
            "min       12.400000\n",
            "25%       15.500000\n",
            "50%       16.600000\n",
            "75%       17.600000\n",
            "max       23.500000\n",
            "Name: TO%, dtype: float64\n",
            "OFF REB% Descriptive Stats\n",
            "count    353.000000\n",
            "mean      26.538810\n",
            "std        4.157393\n",
            "min       12.400000\n",
            "25%       23.500000\n",
            "50%       26.800000\n",
            "75%       29.300000\n",
            "max       39.300000\n",
            "Name: OFF REB%, dtype: float64\n",
            "DEF REB% Descriptive Stats\n",
            "count    353.000000\n",
            "mean      74.151275\n",
            "std        3.012173\n",
            "min       64.700000\n",
            "25%       72.200000\n",
            "50%       74.200000\n",
            "75%       76.200000\n",
            "max       83.300000\n",
            "Name: DEF REB%, dtype: float64\n",
            "FTM/FGA Descriptive Stats\n",
            "count    353.000000\n",
            "mean       0.230272\n",
            "std        0.035171\n",
            "min        0.147000\n",
            "25%        0.204000\n",
            "50%        0.231000\n",
            "75%        0.256000\n",
            "max        0.336000\n",
            "Name: FTM/FGA, dtype: float64\n",
            "3FG% Descriptive Stats\n",
            "count    353.000000\n",
            "mean       0.333813\n",
            "std        0.025527\n",
            "min        0.248000\n",
            "25%        0.318000\n",
            "50%        0.334000\n",
            "75%        0.351000\n",
            "max        0.420000\n",
            "Name: 3FG%, dtype: float64\n",
            "3FG% ALLOW Descriptive Stats\n",
            "count    353.000000\n",
            "mean       0.329997\n",
            "std        0.022684\n",
            "min        0.272000\n",
            "25%        0.314000\n",
            "50%        0.330000\n",
            "75%        0.344000\n",
            "max        0.397000\n",
            "Name: 3FG% ALLOW, dtype: float64\n"
          ],
          "name": "stdout"
        }
      ]
    },
    {
      "cell_type": "markdown",
      "metadata": {
        "id": "DgY0eyrTbDm1",
        "colab_type": "text"
      },
      "source": [
        "These descriptive stats give us a good idea of where teams rank within in the population of data at large. For instance, consider the mean and std of eFG% ALLOW (the stat with the strongest correlation to wins) which has a mean of .491 and an std of .026. Using the dashboard in Google sheets we can identify undervalued teams in the rankings. For instance, Michigan State has a eFG% ALLOW nearly two std's below the average, a better rate than any team ranked above them.\n"
      ]
    },
    {
      "cell_type": "markdown",
      "metadata": {
        "id": "x9VstdYflbEY",
        "colab_type": "text"
      },
      "source": [
        "Here's a visualization that illustrates the std of eFG% ALLOW.\n",
        "\n",
        "\n",
        "\n"
      ]
    },
    {
      "cell_type": "code",
      "metadata": {
        "id": "H0EX9g_Sgm1a",
        "colab_type": "code",
        "outputId": "df3a20ce-d065-4119-ec09-37d51fabe139",
        "colab": {
          "base_uri": "https://localhost:8080/",
          "height": 285
        }
      },
      "source": [
        "ax = sns.distplot(defense_df['eFG% ALLOW'])"
      ],
      "execution_count": 0,
      "outputs": [
        {
          "output_type": "display_data",
          "data": {
            "image/png": "[encoded data removed]",
            "text/plain": [
              "<Figure size 432x288 with 1 Axes>"
            ]
          },
          "metadata": {
            "tags": []
          }
        }
      ]
    },
    {
      "cell_type": "markdown",
      "metadata": {
        "id": "9riqOPiXcVgU",
        "colab_type": "text"
      },
      "source": [
        "Let's take a look at the standard deviations for the other metrics."
      ]
    },
    {
      "cell_type": "code",
      "metadata": {
        "id": "V3XRhBDgo5wy",
        "colab_type": "code",
        "outputId": "fb698aeb-ff3f-47cd-d728-bcc298a3e139",
        "colab": {
          "base_uri": "https://localhost:8080/",
          "height": 303
        }
      },
      "source": [
        "print('EFG_O')\n",
        "ax = sns.distplot(shooting_df['eFG%'])"
      ],
      "execution_count": 0,
      "outputs": [
        {
          "output_type": "stream",
          "text": [
            "EFG_O\n"
          ],
          "name": "stdout"
        },
        {
          "output_type": "display_data",
          "data": {
            "image/png": "[encoded data removed]",
            "text/plain": [
              "<Figure size 432x288 with 1 Axes>"
            ]
          },
          "metadata": {
            "tags": []
          }
        }
      ]
    },
    {
      "cell_type": "code",
      "metadata": {
        "id": "z7SLF-xvpII9",
        "colab_type": "code",
        "outputId": "c29686a6-f0ba-408a-f837-cd0def06dbbc",
        "colab": {
          "base_uri": "https://localhost:8080/",
          "height": 303
        }
      },
      "source": [
        "print('TO%')\n",
        "ax = sns.distplot(assists_df['TO%'])"
      ],
      "execution_count": 0,
      "outputs": [
        {
          "output_type": "stream",
          "text": [
            "TO%\n"
          ],
          "name": "stdout"
        },
        {
          "output_type": "display_data",
          "data": {
            "image/png": "[encoded data removed]",
            "text/plain": [
              "<Figure size 432x288 with 1 Axes>"
            ]
          },
          "metadata": {
            "tags": []
          }
        }
      ]
    },
    {
      "cell_type": "code",
      "metadata": {
        "id": "BWvq5GdxpjqI",
        "colab_type": "code",
        "outputId": "cfcc0c46-fb1b-4492-ecdb-c7e0ffb959fd",
        "colab": {
          "base_uri": "https://localhost:8080/",
          "height": 303
        }
      },
      "source": [
        "print('OFF_REB')\n",
        "ax = sns.distplot(rebounding_df['OFF REB%'])"
      ],
      "execution_count": 0,
      "outputs": [
        {
          "output_type": "stream",
          "text": [
            "OFF_REB\n"
          ],
          "name": "stdout"
        },
        {
          "output_type": "display_data",
          "data": {
            "image/png": "[encoded data removed]",
            "text/plain": [
              "<Figure size 432x288 with 1 Axes>"
            ]
          },
          "metadata": {
            "tags": []
          }
        }
      ]
    },
    {
      "cell_type": "code",
      "metadata": {
        "id": "B6zm23DUp2U5",
        "colab_type": "code",
        "outputId": "d5861bbc-73f1-47fb-94af-1fb78aebda9e",
        "colab": {
          "base_uri": "https://localhost:8080/",
          "height": 305
        }
      },
      "source": [
        "print('DEF_REB')\n",
        "ax = sns.distplot(rebounding_df['DEF REB%'])"
      ],
      "execution_count": 0,
      "outputs": [
        {
          "output_type": "stream",
          "text": [
            "DEF_REB\n"
          ],
          "name": "stdout"
        },
        {
          "output_type": "display_data",
          "data": {
            "image/png": "[encoded data removed]",
            "text/plain": [
              "<Figure size 432x288 with 1 Axes>"
            ]
          },
          "metadata": {
            "tags": []
          }
        }
      ]
    },
    {
      "cell_type": "code",
      "metadata": {
        "id": "0iEsyARjqLZk",
        "colab_type": "code",
        "outputId": "c793441b-7b4b-454a-c41f-783efaf534d4",
        "colab": {
          "base_uri": "https://localhost:8080/",
          "height": 303
        }
      },
      "source": [
        "print('FTM/FGA')\n",
        "ax = sns.distplot(shooting_df['FTM/FGA'])"
      ],
      "execution_count": 0,
      "outputs": [
        {
          "output_type": "stream",
          "text": [
            "FTM/FGA\n"
          ],
          "name": "stdout"
        },
        {
          "output_type": "display_data",
          "data": {
            "image/png": "[encoded data removed]",
            "text/plain": [
              "<Figure size 432x288 with 1 Axes>"
            ]
          },
          "metadata": {
            "tags": []
          }
        }
      ]
    },
    {
      "cell_type": "code",
      "metadata": {
        "id": "S6pFQXbMqw25",
        "colab_type": "code",
        "outputId": "148ac15b-957c-4a1d-d4ff-10ff55eedc7e",
        "colab": {
          "base_uri": "https://localhost:8080/",
          "height": 303
        }
      },
      "source": [
        "print('3P_O')\n",
        "ax = sns.distplot(scoring_df['3FG%'])"
      ],
      "execution_count": 0,
      "outputs": [
        {
          "output_type": "stream",
          "text": [
            "3P_O\n"
          ],
          "name": "stdout"
        },
        {
          "output_type": "display_data",
          "data": {
            "image/png": "[encoded data removed]",
            "text/plain": [
              "<Figure size 432x288 with 1 Axes>"
            ]
          },
          "metadata": {
            "tags": []
          }
        }
      ]
    },
    {
      "cell_type": "code",
      "metadata": {
        "id": "oqioTgUtrKma",
        "colab_type": "code",
        "outputId": "ee36659c-1fe7-4271-dd19-7f5ee19f0433",
        "colab": {
          "base_uri": "https://localhost:8080/",
          "height": 303
        }
      },
      "source": [
        "print('3P_D')\n",
        "ax = sns.distplot(scoring_df['3FG% ALLOW'])"
      ],
      "execution_count": 0,
      "outputs": [
        {
          "output_type": "stream",
          "text": [
            "3P_D\n"
          ],
          "name": "stdout"
        },
        {
          "output_type": "display_data",
          "data": {
            "image/png": "[encoded data removed]",
            "text/plain": [
              "<Figure size 432x288 with 1 Axes>"
            ]
          },
          "metadata": {
            "tags": []
          }
        }
      ]
    },
    {
      "cell_type": "markdown",
      "metadata": {
        "id": "-gvUW6jdrhwc",
        "colab_type": "text"
      },
      "source": [
        "These visual references give the user a good perspective on just how significant some team's statistics are. For instance, user's should take note of just how rare it is to see a team with a 3FG% above .375 compared to a DEF_REB rate between 30 and 35."
      ]
    },
    {
      "cell_type": "markdown",
      "metadata": {
        "id": "1a16T1e-s2gP",
        "colab_type": "text"
      },
      "source": [
        "For our purposes, these histograms are much more useful for analyzing the data than scatter plots, which failed to show any consistent correlations between each specific stat category."
      ]
    },
    {
      "cell_type": "markdown",
      "metadata": {
        "id": "KRqY76m0wu5v",
        "colab_type": "text"
      },
      "source": [
        "**With all of this information at our disposal in tandem with the dashboard. User's will find that they have an ample number of tools to guide their decisions as they fill out their March Madness brackets.**"
      ]
    },
    {
      "cell_type": "code",
      "metadata": {
        "id": "QlWBYpNlt3Ds",
        "colab_type": "code",
        "colab": {}
      },
      "source": [
        ""
      ],
      "execution_count": 0,
      "outputs": []
    }
  ]
}